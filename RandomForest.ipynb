{
 "cells": [
  {
   "cell_type": "code",
   "execution_count": null,
   "metadata": {},
   "outputs": [],
   "source": [
    "from sklearn.model_selection import train_test_split\n",
    "from sklearn.ensemble import RandomForestRegressor\n",
    "from sklearn.metrics import mean_absolute_error, mean_squared_error\n",
    "import numpy as np\n",
    "import pandas as pd\n",
    "# import ace_tools as tools\n",
    "\n",
    "# Load the data\n",
    "data_path_1 = './Data/Nantou/cn01.csv'\n",
    "data_path_2 = './Data/Nantou/cn02.csv'\n",
    "data_path_4 = './Data/Nantou/cn04.csv'\n",
    "data_1 = pd.read_csv(data_path_1, delimiter=';')\n",
    "data_2 = pd.read_csv(data_path_2, delimiter=';')\n",
    "data_4 = pd.read_csv(data_path_4, delimiter=';')\n",
    "\n",
    "data = pd.concat([data_1, data_2, data_4],ignore_index=True)\n",
    "\n",
    "print(data.describe())"
   ]
  },
  {
   "cell_type": "code",
   "execution_count": null,
   "metadata": {},
   "outputs": [],
   "source": [
    "columns_list = list(data.columns)\n",
    "columns_list"
   ]
  },
  {
   "cell_type": "code",
   "execution_count": null,
   "metadata": {},
   "outputs": [],
   "source": [
    "# 檢查 'date_time' 欄位是否存在\n",
    "if 'date_time' in data.columns:\n",
    "    # 轉換日期時間欄位\n",
    "    data['date_time'] = pd.to_datetime(data['date_time'])\n",
    "else:\n",
    "    raise KeyError(\"'date_time' column is missing from the DataFrame\")\n",
    "\n",
    "# 創建時間特徵\n",
    "data['hour'] = data['date_time'].dt.hour\n",
    "data[\"minute\"] = data[\"date_time\"].dt.minute\n",
    "\n",
    "# 創建滯後特徵（Lag Features）\n",
    "lag_features = [\"TotalMove\", \"E\", \"N\", \"H\"]\n",
    "for feature in lag_features:\n",
    "    data[f\"{feature}_lag1\"] = data[feature].shift(1)  # 前一個時間點的值\n",
    "    data[f\"{feature}_lag2\"] = data[feature].shift(2)  # 前兩個時間點的值\n",
    "\n",
    "# 移除 NaN 值（因為有滯後變數會導致前幾筆數據無法使用）\n",
    "data.dropna(inplace=True)\n",
    "\n",
    "# 設定輸入變數 (X) 和 目標變數 (y)\n",
    "features = [\"hour\", \"minute\"] + [f\"{feature}_lag1\" for feature in lag_features] + [f\"{feature}_lag2\" for feature in lag_features]\n",
    "X = data[features]\n",
    "y_totalmove = data[\"TotalMove\"]\n",
    "y_E = data[\"E\"]\n",
    "y_N = data[\"N\"]\n",
    "y_H = data[\"H\"]\n",
    "\n",
    "# 分割數據集（80% 訓練，20% 測試）\n",
    "X_train, X_test, y_train_totalmove, y_test_totalmove = train_test_split(X, y_totalmove, test_size=0.2, random_state=42)\n",
    "X_train, X_test, y_train_E, y_test_E = train_test_split(X, y_E, test_size=0.2, random_state=42)\n",
    "X_train, X_test, y_train_N, y_test_N = train_test_split(X, y_N, test_size=0.2, random_state=42)\n",
    "X_train, X_test, y_train_H, y_test_H = train_test_split(X, y_H, test_size=0.2, random_state=42)"
   ]
  },
  {
   "cell_type": "code",
   "execution_count": null,
   "metadata": {},
   "outputs": [],
   "source": [
    "# 訓練回歸模型（使用隨機森林）\n",
    "rf_totalmove = RandomForestRegressor(n_estimators=100, random_state=42)\n",
    "rf_totalmove.fit(X_train, y_train_totalmove)\n",
    "\n",
    "rf_E = RandomForestRegressor(n_estimators=100, random_state=42)\n",
    "rf_E.fit(X_train, y_train_E)\n",
    "\n",
    "rf_N = RandomForestRegressor(n_estimators=100, random_state=42)\n",
    "rf_N.fit(X_train, y_train_N)\n",
    "\n",
    "rf_H = RandomForestRegressor(n_estimators=100, random_state=42)\n",
    "rf_H.fit(X_train, y_train_H)"
   ]
  },
  {
   "cell_type": "code",
   "execution_count": null,
   "metadata": {},
   "outputs": [],
   "source": [
    "# 預測\n",
    "y_pred_totalmove = rf_totalmove.predict(X_test)\n",
    "y_pred_E = rf_E.predict(X_test)\n",
    "y_pred_N = rf_N.predict(X_test)\n",
    "y_pred_H = rf_H.predict(X_test)"
   ]
  },
  {
   "cell_type": "code",
   "execution_count": null,
   "metadata": {},
   "outputs": [],
   "source": [
    "# 評估模型表現\n",
    "mae_totalmove = mean_absolute_error(y_test_totalmove, y_pred_totalmove)\n",
    "rmse_totalmove = np.sqrt(mean_squared_error(y_test_totalmove, y_pred_totalmove))\n",
    "\n",
    "mae_E = mean_absolute_error(y_test_E, y_pred_E)\n",
    "rmse_E = np.sqrt(mean_squared_error(y_test_E, y_pred_E))\n",
    "\n",
    "mae_N = mean_absolute_error(y_test_N, y_pred_N)\n",
    "rmse_N = np.sqrt(mean_squared_error(y_test_N, y_pred_N))\n",
    "\n",
    "mae_H = mean_absolute_error(y_test_H, y_pred_H)\n",
    "rmse_H = np.sqrt(mean_squared_error(y_test_H, y_pred_H))"
   ]
  },
  {
   "cell_type": "code",
   "execution_count": null,
   "metadata": {},
   "outputs": [],
   "source": [
    "# 顯示結果\n",
    "results = pd.DataFrame({\n",
    "    \"Variable\": [\"TotalMove\", \"E\", \"N\", \"H\"],\n",
    "    \"MAE\": [mae_totalmove, mae_E, mae_N, mae_H],\n",
    "    \"RMSE\": [rmse_totalmove, rmse_E, rmse_N, rmse_H]\n",
    "})\n",
    "\n",
    "# tools.display_dataframe_to_user(name=\"Model Evaluation Results\", dataframe=results)"
   ]
  },
  {
   "cell_type": "code",
   "execution_count": null,
   "metadata": {},
   "outputs": [],
   "source": [
    "print(results)"
   ]
  }
 ],
 "metadata": {
  "kernelspec": {
   "display_name": "slope",
   "language": "python",
   "name": "python3"
  },
  "language_info": {
   "codemirror_mode": {
    "name": "ipython",
    "version": 3
   },
   "file_extension": ".py",
   "mimetype": "text/x-python",
   "name": "python",
   "nbconvert_exporter": "python",
   "pygments_lexer": "ipython3",
   "version": "3.12.8"
  }
 },
 "nbformat": 4,
 "nbformat_minor": 2
}
