{
 "cells": [
  {
   "cell_type": "code",
   "execution_count": 14,
   "metadata": {},
   "outputs": [],
   "source": [
    "import pandas as pd\n",
    "import matplotlib.pyplot as plt\n",
    "import seaborn as sns\n",
    "\n",
    "# Load the data\n",
    "data_path = './Taipei/h23-g1.csv'\n",
    "data = pd.read_csv(data_path)"
   ]
  },
  {
   "cell_type": "code",
   "execution_count": 15,
   "metadata": {},
   "outputs": [
    {
     "name": "stdout",
     "output_type": "stream",
     "text": [
      "<class 'pandas.core.frame.DataFrame'>\n",
      "RangeIndex: 74033 entries, 0 to 74032\n",
      "Data columns (total 1 columns):\n",
      " #   Column                                                                                                 Non-Null Count  Dtype \n",
      "---  ------                                                                                                 --------------  ----- \n",
      " 0   date_time;\"E\";\"N\";\"H\";\"Angle\";\"Axis\";\"Plate\";\"EMove\";\"NMove\";\"HMove\";\"TotalMove\";\"EDay\";\"NDay\";\"HDay\"  74033 non-null  object\n",
      "dtypes: object(1)\n",
      "memory usage: 578.5+ KB\n",
      "None\n",
      "       date_time;\"E\";\"N\";\"H\";\"Angle\";\"Axis\";\"Plate\";\"EMove\";\"NMove\";\"HMove\";\"TotalMove\";\"EDay\";\"NDay\";\"HDay\"\n",
      "count                                               74033                                                   \n",
      "unique                                              74033                                                   \n",
      "top     2023-03-22 12:10:00;\"320191.8741\";\"2771896.269...                                                   \n",
      "freq                                                    1                                                   \n"
     ]
    }
   ],
   "source": [
    "# Quick overview of the data\n",
    "print(data.info())\n",
    "print(data.describe())"
   ]
  },
  {
   "cell_type": "code",
   "execution_count": 16,
   "metadata": {},
   "outputs": [
    {
     "name": "stdout",
     "output_type": "stream",
     "text": [
      "date_time;\"E\";\"N\";\"H\";\"Angle\";\"Axis\";\"Plate\";\"EMove\";\"NMove\";\"HMove\";\"TotalMove\";\"EDay\";\"NDay\";\"HDay\"    0\n",
      "dtype: int64\n"
     ]
    }
   ],
   "source": [
    "# Check for missing values\n",
    "missing_values = data.isnull().sum()\n",
    "print(missing_values)"
   ]
  },
  {
   "cell_type": "code",
   "execution_count": 17,
   "metadata": {},
   "outputs": [],
   "source": [
    "# Check the distribution of numerical variables\n",
    "numerical_columns = data.select_dtypes(include=['float64', 'int64']).columns\n",
    "for col in numerical_columns:\n",
    "    plt.figure()\n",
    "    sns.histplot(data[col], kde=True, bins=30)\n",
    "    plt.title(f'Distribution of {col}')\n",
    "    plt.xlabel(col)\n",
    "    plt.ylabel('Frequency')\n",
    "    plt.show()"
   ]
  },
  {
   "cell_type": "code",
   "execution_count": 18,
   "metadata": {},
   "outputs": [
    {
     "name": "stdout",
     "output_type": "stream",
     "text": [
      "No numerical columns available for correlation matrix.\n"
     ]
    }
   ],
   "source": [
    "# Correlation matrix\n",
    "if not numerical_columns.empty:\n",
    "    correlation_matrix = data[numerical_columns].corr()\n",
    "    plt.figure(figsize=(10, 8))\n",
    "    sns.heatmap(correlation_matrix, annot=True, cmap='coolwarm', fmt='.2f')\n",
    "    plt.title('Correlation Matrix')\n",
    "    plt.show()\n",
    "else:\n",
    "    print(\"No numerical columns available for correlation matrix.\")"
   ]
  },
  {
   "cell_type": "code",
   "execution_count": 19,
   "metadata": {},
   "outputs": [],
   "source": [
    "# Scatter plots for key variables (customize based on data)\n",
    "if len(numerical_columns) > 1:\n",
    "    sns.pairplot(data[numerical_columns])\n",
    "    plt.show()"
   ]
  },
  {
   "cell_type": "code",
   "execution_count": 20,
   "metadata": {},
   "outputs": [
    {
     "name": "stdout",
     "output_type": "stream",
     "text": [
      "date_time;\"E\";\"N\";\"H\";\"Angle\";\"Axis\";\"Plate\";\"EMove\";\"NMove\";\"HMove\";\"TotalMove\";\"EDay\";\"NDay\";\"HDay\" has 74033 unique values\n"
     ]
    }
   ],
   "source": [
    "# Check unique values in categorical variables\n",
    "categorical_columns = data.select_dtypes(include=['object']).columns\n",
    "for col in categorical_columns:\n",
    "    unique_values = data[col].nunique()\n",
    "    print(f'{col} has {unique_values} unique values')"
   ]
  },
  {
   "cell_type": "code",
   "execution_count": null,
   "metadata": {},
   "outputs": [],
   "source": [
    "# Count plots for categorical variables\n",
    "for col in categorical_columns:\n",
    "    plt.figure()\n",
    "    sns.countplot(y=data[col], order=data[col].value_counts().index)\n",
    "    plt.title(f'Count of {col}')\n",
    "    plt.show()"
   ]
  }
 ],
 "metadata": {
  "kernelspec": {
   "display_name": "RAG_project",
   "language": "python",
   "name": "python3"
  },
  "language_info": {
   "codemirror_mode": {
    "name": "ipython",
    "version": 3
   },
   "file_extension": ".py",
   "mimetype": "text/x-python",
   "name": "python",
   "nbconvert_exporter": "python",
   "pygments_lexer": "ipython3",
   "version": "3.12.4"
  }
 },
 "nbformat": 4,
 "nbformat_minor": 2
}
