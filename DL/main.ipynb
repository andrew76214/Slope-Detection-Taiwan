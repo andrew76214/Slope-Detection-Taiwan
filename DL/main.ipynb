{
 "cells": [
  {
   "cell_type": "code",
   "execution_count": 6,
   "metadata": {},
   "outputs": [],
   "source": [
    "import torch\n",
    "import torch.nn as nn\n",
    "import torch.optim as optim\n",
    "from torch.utils.data import DataLoader, TensorDataset\n",
    "import pandas as pd\n",
    "\n",
    "from data_loader import DataLoader"
   ]
  },
  {
   "cell_type": "code",
   "execution_count": 7,
   "metadata": {},
   "outputs": [],
   "source": [
    "# Usage\n",
    "data_paths = ['../Data/Nantou/cn01.csv', \n",
    "              '../Data/Nantou/cn02.csv', \n",
    "              '../Data/Nantou/cn04.csv']\n",
    "data_loader = DataLoader(data_paths)\n",
    "data_loader.preprocess_data()"
   ]
  },
  {
   "cell_type": "code",
   "execution_count": 8,
   "metadata": {},
   "outputs": [],
   "source": [
    "# Define Neural Network Model\n",
    "class RegressionModel(nn.Module):\n",
    "    def __init__(self, input_dim, output_dim):\n",
    "        super(RegressionModel, self).__init__()\n",
    "        self.fc1 = nn.Linear(input_dim, 64)\n",
    "        self.fc2 = nn.Linear(64, 32)\n",
    "        self.fc3 = nn.Linear(32, output_dim)\n",
    "        self.relu = nn.ReLU()\n",
    "\n",
    "    def forward(self, x):\n",
    "        x = self.relu(self.fc1(x))\n",
    "        x = self.relu(self.fc2(x))\n",
    "        x = self.fc3(x)\n",
    "        return x"
   ]
  },
  {
   "cell_type": "code",
   "execution_count": 12,
   "metadata": {},
   "outputs": [
    {
     "name": "stdout",
     "output_type": "stream",
     "text": [
      "X_train shape: (459172, 10)\n",
      "y_train_totalmove shape: (459172,)\n"
     ]
    }
   ],
   "source": [
    "# Model Initialization\n",
    "print(f\"X_train shape: {data_loader.X_train.shape}\")\n",
    "print(f\"y_train_totalmove shape: {data_loader.y_train_totalmove.shape}\")\n"
   ]
  },
  {
   "cell_type": "code",
   "execution_count": 15,
   "metadata": {},
   "outputs": [
    {
     "name": "stdout",
     "output_type": "stream",
     "text": [
      "Epoch 1/50, Loss: 1440502.6948\n",
      "Epoch 2/50, Loss: 1107936.1987\n",
      "Epoch 3/50, Loss: 937860.6928\n",
      "Epoch 4/50, Loss: 946040.2806\n",
      "Epoch 5/50, Loss: 932133.7432\n",
      "Epoch 6/50, Loss: 930686.7298\n",
      "Epoch 7/50, Loss: 929727.4286\n",
      "Epoch 8/50, Loss: 928680.2108\n",
      "Epoch 9/50, Loss: 928105.3096\n",
      "Epoch 10/50, Loss: 927726.0521\n",
      "Epoch 11/50, Loss: 927379.5906\n",
      "Epoch 12/50, Loss: 927248.0115\n",
      "Epoch 13/50, Loss: 927153.0836\n",
      "Epoch 14/50, Loss: 927134.4965\n",
      "Epoch 15/50, Loss: 927127.2642\n",
      "Epoch 16/50, Loss: 927124.0908\n",
      "Epoch 17/50, Loss: 927123.6158\n",
      "Epoch 18/50, Loss: 927123.3914\n",
      "Epoch 19/50, Loss: 927123.1004\n",
      "Epoch 20/50, Loss: 927122.5404\n",
      "Epoch 21/50, Loss: 927122.9684\n",
      "Epoch 22/50, Loss: 927122.9113\n",
      "Epoch 23/50, Loss: 927122.7951\n",
      "Epoch 24/50, Loss: 927122.3536\n",
      "Epoch 25/50, Loss: 927122.6818\n",
      "Epoch 26/50, Loss: 927122.4070\n",
      "Epoch 27/50, Loss: 927122.3630\n",
      "Epoch 28/50, Loss: 927122.5158\n",
      "Epoch 29/50, Loss: 927122.1081\n",
      "Epoch 30/50, Loss: 927122.3302\n",
      "Epoch 31/50, Loss: 927122.1126\n",
      "Epoch 32/50, Loss: 927122.0860\n",
      "Epoch 33/50, Loss: 927122.4367\n",
      "Epoch 34/50, Loss: 927122.1275\n",
      "Epoch 35/50, Loss: 927122.2870\n",
      "Epoch 36/50, Loss: 927122.9255\n",
      "Epoch 37/50, Loss: 927122.7193\n",
      "Epoch 38/50, Loss: 927123.0354\n",
      "Epoch 39/50, Loss: 927122.5460\n",
      "Epoch 40/50, Loss: 927122.3377\n",
      "Epoch 41/50, Loss: 927122.2002\n",
      "Epoch 42/50, Loss: 927122.8098\n",
      "Epoch 43/50, Loss: 927122.4992\n",
      "Epoch 44/50, Loss: 927122.2622\n",
      "Epoch 45/50, Loss: 927122.8133\n",
      "Epoch 46/50, Loss: 927122.4996\n",
      "Epoch 47/50, Loss: 927122.4380\n",
      "Epoch 48/50, Loss: 927122.1210\n",
      "Epoch 49/50, Loss: 927122.7466\n",
      "Epoch 50/50, Loss: 927122.5176\n"
     ]
    }
   ],
   "source": [
    "# Model Initialization\n",
    "input_dim = data_loader.X_train.shape[1]\n",
    "output_dim = 1\n",
    "model = RegressionModel(input_dim, output_dim)\n",
    "\n",
    "# Define loss function and optimizer\n",
    "criterion = nn.MSELoss()\n",
    "optimizer = optim.Adam(model.parameters(), lr=0.001)\n",
    "\n",
    "# Training loop\n",
    "epochs = 50\n",
    "for epoch in range(epochs):\n",
    "    model.train()\n",
    "    total_loss = 0\n",
    "    for batch_X, batch_y in data_loader.train_loader:\n",
    "        optimizer.zero_grad()\n",
    "        predictions = model(batch_X)\n",
    "        loss = criterion(predictions, batch_y)\n",
    "        loss.backward()\n",
    "        optimizer.step()\n",
    "        total_loss += loss.item()\n",
    "    print(f\"Epoch {epoch+1}/{epochs}, Loss: {total_loss / len(data_loader.train_loader):.4f}\")"
   ]
  },
  {
   "cell_type": "code",
   "execution_count": null,
   "metadata": {},
   "outputs": [
    {
     "ename": "",
     "evalue": "",
     "output_type": "error",
     "traceback": [
      "\u001b[1;31mThe Kernel crashed while executing code in the current cell or a previous cell. \n",
      "\u001b[1;31mPlease review the code in the cell(s) to identify a possible cause of the failure. \n",
      "\u001b[1;31mClick <a href='https://aka.ms/vscodeJupyterKernelCrash'>here</a> for more info. \n",
      "\u001b[1;31mView Jupyter <a href='command:jupyter.viewOutput'>log</a> for further details."
     ]
    }
   ],
   "source": [
    "# Evaluation\n",
    "model.eval()\n",
    "with torch.no_grad():\n",
    "    y_pred = model(data_loader.test_loader.X_test_tensor)\n",
    "    mae = torch.mean(torch.abs(y_pred - data_loader.y_test_tensor), dim=0)\n",
    "    rmse = torch.sqrt(torch.mean((y_pred - data_loader.y_test_tensor) ** 2, dim=0))\n",
    "\n",
    "# Print results\n",
    "results = pd.DataFrame({\n",
    "    \"Variable\": [\"TotalMove\", \"E\", \"N\", \"H\"],\n",
    "    \"MAE\": mae.numpy(),\n",
    "    \"RMSE\": rmse.numpy()\n",
    "})\n",
    "print(results)\n"
   ]
  }
 ],
 "metadata": {
  "kernelspec": {
   "display_name": "slope",
   "language": "python",
   "name": "python3"
  },
  "language_info": {
   "codemirror_mode": {
    "name": "ipython",
    "version": 3
   },
   "file_extension": ".py",
   "mimetype": "text/x-python",
   "name": "python",
   "nbconvert_exporter": "python",
   "pygments_lexer": "ipython3",
   "version": "3.12.2"
  }
 },
 "nbformat": 4,
 "nbformat_minor": 2
}
