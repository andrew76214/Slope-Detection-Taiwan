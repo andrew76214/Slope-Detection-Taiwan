{
 "cells": [
  {
   "cell_type": "markdown",
   "metadata": {},
   "source": [
    "%load_ext autoreload\n",
    "%autoreload 2\n",
    "https://blog.csdn.net/m0_46413065/article/details/129917287"
   ]
  },
  {
   "cell_type": "code",
   "execution_count": 5,
   "metadata": {},
   "outputs": [],
   "source": [
    "\n",
    "import pandas as pd\n",
    "import numpy as np\n",
    "import torch\n",
    "import torch.nn as nn\n",
    "from pytorch_forecasting import TimeSeriesDataSet\n",
    "from pytorch_forecasting.data.encoders import MultiNormalizer,TorchNormalizer,GroupNormalizer"
   ]
  },
  {
   "cell_type": "code",
   "execution_count": 6,
   "metadata": {},
   "outputs": [
    {
     "name": "stderr",
     "output_type": "stream",
     "text": [
      "C:\\Users\\lulu\\AppData\\Local\\Temp\\ipykernel_13292\\4115666770.py:14: SettingWithCopyWarning: \n",
      "A value is trying to be set on a copy of a slice from a DataFrame.\n",
      "Try using .loc[row_indexer,col_indexer] = value instead\n",
      "\n",
      "See the caveats in the documentation: https://pandas.pydata.org/pandas-docs/stable/user_guide/indexing.html#returning-a-view-versus-a-copy\n",
      "  data['group_id'] = 0\n"
     ]
    }
   ],
   "source": [
    "data_g2 = pd.read_csv(\"./Data/Nantou/cn01_scaled.csv\",delimiter=';')\n",
    "data = data_g2\n",
    "\n",
    "features = ['date_time']\n",
    "targets = ['EMove', 'NMove', 'HMove']\n",
    "\n",
    "data['date_time'] = pd.to_datetime(data['date_time'])\n",
    "data['date_time'] = data['date_time'].astype('int64') / (10 ** 11)\n",
    "data['date_time'] = data['date_time'].astype('int64')\n",
    "\n",
    "\n",
    "data = data[features+targets]\n",
    "    \n",
    "data['group_id'] = 0"
   ]
  },
  {
   "cell_type": "code",
   "execution_count": 7,
   "metadata": {},
   "outputs": [
    {
     "name": "stdout",
     "output_type": "stream",
     "text": [
      "Index(['date_time', 'EMove', 'NMove', 'HMove', 'group_id'], dtype='object')\n"
     ]
    }
   ],
   "source": [
    "print(data.columns)  # Check all the columns in the dataset\n"
   ]
  },
  {
   "cell_type": "code",
   "execution_count": 8,
   "metadata": {},
   "outputs": [],
   "source": [
    "from sklearn.model_selection import train_test_split\n",
    "max_prediction_length = 144\n",
    "max_encoder_length =144\n",
    "# Assuming `data` is already preprocessed and scaled.\n",
    "train_data = data[:int(len(data)*0.8)]\n",
    "val_data = data[int(len(data)*0.8):int(len(data)*0.8)+int(len(data)*0.1)]\n",
    "test_data = data[int(len(data)*0.8)+int(len(data)*0.1):]\n",
    "\n",
    "# Define your TimeSeriesDataSet for training\n",
    "training = TimeSeriesDataSet(\n",
    "    train_data,\n",
    "    group_ids=[\"group_id\"],\n",
    "    target=targets,\n",
    "    time_idx=\"date_time\",\n",
    "    max_encoder_length=max_encoder_length,\n",
    "    max_prediction_length=max_prediction_length,\n",
    "    min_encoder_length=20,  # Set based on your needs\n",
    "    min_prediction_length=1,  # Same here\n",
    "    time_varying_unknown_reals=targets,\n",
    "    allow_missing_timesteps=True\n",
    ")\n",
    "\n",
    "# Define your TimeSeriesDataSet for validation\n",
    "validation = TimeSeriesDataSet(\n",
    "    val_data,\n",
    "    group_ids=[\"group_id\"],\n",
    "    target=targets,\n",
    "    time_idx=\"date_time\",\n",
    "    max_encoder_length=max_encoder_length,\n",
    "    max_prediction_length=max_prediction_length,\n",
    "    min_encoder_length=20,  # Adjust based on validation needs\n",
    "    #min_prediction_length=1,\n",
    "    time_varying_unknown_reals=targets,\n",
    "    allow_missing_timesteps=True\n",
    ")\n",
    "\n",
    "# Define your TimeSeriesDataSet for test\n",
    "test = TimeSeriesDataSet(\n",
    "    test_data,\n",
    "    group_ids=[\"group_id\"],\n",
    "    target=targets,\n",
    "    time_idx=\"date_time\",\n",
    "    max_encoder_length=max_encoder_length,\n",
    "    max_prediction_length=max_prediction_length,\n",
    "    min_encoder_length=20,  # Adjust based on validation needs\n",
    "    #min_prediction_length=1,\n",
    "    time_varying_unknown_reals=targets,\n",
    "    allow_missing_timesteps=True\n",
    ")\n",
    "\n",
    "batch_size = 32\n",
    "\n",
    "train_dataloader = training.to_dataloader(train=True,batch_size=batch_size,shuffle=False,num_workers=4)\n",
    "val_dataloader = validation.to_dataloader(train=False,batch_size=batch_size,shuffle=False,num_workers=4)\n",
    "test_dataloader = test.to_dataloader(train=False,batch_size=batch_size,shuffle=False,num_workers=4)\n",
    "\n"
   ]
  },
  {
   "cell_type": "code",
   "execution_count": 9,
   "metadata": {},
   "outputs": [
    {
     "name": "stdout",
     "output_type": "stream",
     "text": [
      "Total dataset size: 30736\n",
      "Training size: 28710\n",
      "Validation size: 7305\n",
      "group_id\n",
      "0    30736\n",
      "Name: count, dtype: int64\n"
     ]
    }
   ],
   "source": [
    "print(f\"Total dataset size: {len(data)}\")\n",
    "print(f\"Training size: {len(training)}\")\n",
    "print(f\"Validation size: {len(validation)}\")\n",
    "print(f\"Number of batches in val_dataloader: {len(val_dataloader)}\")\n",
    "print(f\"Length of validation dataset: {len(validation)}\")\n",
    "# for i, sample in enumerate(validation):\n",
    "#     print(i, sample)\n",
    "print(data[\"group_id\"].value_counts())  # See if some groups are too small\n",
    "actuals_list = []\n",
    "for batch in test_dataloader:\n",
    "    # actuals_list.append(batch[1][0][0])  # `batch[1]` contains actual target values\n",
    "    actuals_list.append(torch.stack(batch[1][0], dim=-1))  # Stack along last dimension\n",
    "\n",
    "# print(actuals_list)\n",
    "actuals = torch.cat(actuals_list, dim=0)  # Combine all batches\n",
    "actuals = actuals.permute(2, 0, 1)  # Switch dimensions\n",
    "\n",
    "print(actuals.shape)\n",
    "print(type(actuals))\n",
    "\n",
    "for batch in test_dataloader:\n",
    "    print(type(batch[1]))   # Should show if it's a tuple\n",
    "    print(len(batch[1]))    # Check number of elements in the tuple\n",
    "    print(type(batch[1][0]))  # Check type of the first element\n",
    "    print(len(batch[1][0]))\n",
    "    print(batch[1][0][0].shape)  # Check shape of first element\n",
    "    break  # Only print first batch\n",
    "\n"
   ]
  },
  {
   "cell_type": "code",
   "execution_count": null,
   "metadata": {},
   "outputs": [],
   "source": [
    "import matplotlib.pyplot as plt\n",
    "\n",
    "\n",
    "# Plot predictions vs actual values for each movement component\n",
    "plt.figure(figsize=(12, 6))\n",
    "\n",
    "plt.suptitle(\"Actual(blue) vs Predicted(red) Movements Over Time\", fontsize=16, fontweight='bold', y=1.02)\n",
    "n=max_prediction_length\n",
    "# For EMove (target 0)\n",
    "actuals_E = actuals[0,:,::n].cpu().numpy()\n",
    "plt.subplot(4, 1, 1)\n",
    "plt.plot(actuals_E, label=\"Actual EMove\", color='blue')\n",
    "plt.title(\"E Move: Actual vs Predicted\")\n",
    "plt.ylim([np.min(actuals_E), np.max(actuals_E)])  # Set same y-axis range\n",
    "\n",
    "# For NMove (target 1)\n",
    "actuals_N = actuals[1,:,::n].cpu().numpy()\n",
    "plt.subplot(4, 1, 2)\n",
    "plt.plot(actuals_N, label=\"Actual NMove\", color='blue')\n",
    "plt.title(\"N Move: Actual vs Predicted\")\n",
    "plt.ylim([np.min(actuals_N), np.max(actuals_N)])  # Set same y-axis range\n",
    "\n",
    "\n",
    "# For HMove (target 2)\n",
    "actuals_H = actuals[2,:,::n].cpu().numpy()\n",
    "plt.subplot(4, 1, 3)\n",
    "plt.plot(actuals_H, label=\"Actual HMove\", color='blue')\n",
    "plt.title(\"H Move: Actual vs Predicted\")\n",
    "plt.ylim([np.min(actuals_H), np.max(actuals_H)])  # Set same y-axis range\n",
    "\n",
    "\n",
    "plt.tight_layout()\n",
    "plt.show()\n"
   ]
  },
  {
   "cell_type": "code",
   "execution_count": 10,
   "metadata": {},
   "outputs": [],
   "source": [
    "#有問題，所以先跳過\n",
    "# from pytorch_forecasting import Baseline\n",
    "\n",
    "# # Retrieve actuals and ensure proper stacking\n",
    "# # actuals = torch.cat([\n",
    "# #     (y if isinstance(y, torch.Tensor) else y[0])  # Handling if `y` is a list or tensor\n",
    "# #     for x, (y, weight) in iter(val_dataloader)\n",
    "# # ], dim=0)\n",
    "# from torch.nn.utils.rnn import pad_sequence\n",
    "\n",
    "# # Make sure that y is padded to the same length in each batch\n",
    "# y_padded = torch.stack([pad_sequence([torch.tensor(yi_i) for yi_i in yi], batch_first=True) for yi in y], dim=2)\n",
    "\n",
    "# # Concatenate actuals across batches\n",
    "# actuals = torch.cat([y_padded for x, (y, weight) in iter(val_dataloader)], dim=0)\n",
    "# actuals=actuals.transpose(2, 1)\n",
    "\n",
    "\n",
    "# # Get baseline predictions\n",
    "# baseline_predictions = Baseline().predict(val_dataloader)\n",
    "\n",
    "# # Ensure `baseline_predictions` is a tensor\n",
    "# if isinstance(baseline_predictions, list):\n",
    "#     baseline_predictions = torch.stack(baseline_predictions, dim=1)  # Stack if it's a list\n",
    "\n",
    "# # Ensure baseline_predictions is on the same device as actuals\n",
    "# baseline_predictions = baseline_predictions.to(actuals.device)\n",
    "\n",
    "# # Print shapes to debug\n",
    "# print(f\"Shape of actuals: {actuals.shape}\")\n",
    "# print(f\"Shape of baseline_predictions: {baseline_predictions.shape}\")\n",
    "\n",
    "# # Calculate MAE for each target (across all time steps for each target)\n",
    "# result = (actuals - baseline_predictions).abs().mean(dim=[0, 2])  # Compute MAE for each target\n",
    "\n",
    "# # Print MAE results\n",
    "# print(\"MAE for each target:\", result.tolist())\n"
   ]
  },
  {
   "cell_type": "code",
   "execution_count": 12,
   "metadata": {},
   "outputs": [
    {
     "ename": "ModuleNotFoundError",
     "evalue": "Neither `tensorboard` nor `tensorboardX` is available. Try `pip install`ing either.\nRequirement 'tensorboardX' not met. HINT: Try running `pip install -U 'tensorboardX'`\nRequirement 'tensorboard' not met. HINT: Try running `pip install -U 'tensorboard'`",
     "output_type": "error",
     "traceback": [
      "\u001b[1;31m---------------------------------------------------------------------------\u001b[0m",
      "\u001b[1;31mModuleNotFoundError\u001b[0m                       Traceback (most recent call last)",
      "Cell \u001b[1;32mIn[12], line 12\u001b[0m\n\u001b[0;32m     10\u001b[0m lr_logger \u001b[38;5;241m=\u001b[39m LearningRateMonitor()\n\u001b[0;32m     11\u001b[0m \u001b[38;5;66;03m#將訓練數據存入Lightning_logs資料夾\u001b[39;00m\n\u001b[1;32m---> 12\u001b[0m logger \u001b[38;5;241m=\u001b[39m TensorBoardLogger(\u001b[38;5;124m\"\u001b[39m\u001b[38;5;124mlightning_logs\u001b[39m\u001b[38;5;124m\"\u001b[39m)\n\u001b[0;32m     14\u001b[0m trainer \u001b[38;5;241m=\u001b[39m pl\u001b[38;5;241m.\u001b[39mTrainer(\n\u001b[0;32m     15\u001b[0m     max_epochs\u001b[38;5;241m=\u001b[39m\u001b[38;5;241m15\u001b[39m,  \u001b[38;5;66;03m#最多訓練幾次\u001b[39;00m\n\u001b[0;32m     16\u001b[0m     accelerator \u001b[38;5;241m=\u001b[39m \u001b[38;5;124m'\u001b[39m\u001b[38;5;124mgpu\u001b[39m\u001b[38;5;124m'\u001b[39m,    \u001b[38;5;66;03m#用gpu訓練(加速)\u001b[39;00m\n\u001b[1;32m   (...)\u001b[0m\n\u001b[0;32m     22\u001b[0m     logger\u001b[38;5;241m=\u001b[39mlogger\n\u001b[0;32m     23\u001b[0m )\n\u001b[0;32m     25\u001b[0m tft \u001b[38;5;241m=\u001b[39m TemporalFusionTransformer\u001b[38;5;241m.\u001b[39mfrom_dataset(\n\u001b[0;32m     26\u001b[0m     training,\n\u001b[0;32m     27\u001b[0m     learning_rate\u001b[38;5;241m=\u001b[39m\u001b[38;5;241m0.005\u001b[39m,\n\u001b[1;32m   (...)\u001b[0m\n\u001b[0;32m     36\u001b[0m     reduce_on_plateau_patience\u001b[38;5;241m=\u001b[39m\u001b[38;5;241m2\u001b[39m    \u001b[38;5;66;03m#兩次沒有改善時調整學習率\u001b[39;00m\n\u001b[0;32m     37\u001b[0m )\n",
      "File \u001b[1;32mc:\\anaconda\\Lib\\site-packages\\lightning\\pytorch\\loggers\\tensorboard.py:96\u001b[0m, in \u001b[0;36mTensorBoardLogger.__init__\u001b[1;34m(self, save_dir, name, version, log_graph, default_hp_metric, prefix, sub_dir, **kwargs)\u001b[0m\n\u001b[0;32m     85\u001b[0m \u001b[38;5;28;01mdef\u001b[39;00m \u001b[38;5;21m__init__\u001b[39m(\n\u001b[0;32m     86\u001b[0m     \u001b[38;5;28mself\u001b[39m,\n\u001b[0;32m     87\u001b[0m     save_dir: _PATH,\n\u001b[1;32m   (...)\u001b[0m\n\u001b[0;32m     94\u001b[0m     \u001b[38;5;241m*\u001b[39m\u001b[38;5;241m*\u001b[39mkwargs: Any,\n\u001b[0;32m     95\u001b[0m ):\n\u001b[1;32m---> 96\u001b[0m     \u001b[38;5;28msuper\u001b[39m()\u001b[38;5;241m.\u001b[39m\u001b[38;5;21m__init__\u001b[39m(\n\u001b[0;32m     97\u001b[0m         root_dir\u001b[38;5;241m=\u001b[39msave_dir,\n\u001b[0;32m     98\u001b[0m         name\u001b[38;5;241m=\u001b[39mname,\n\u001b[0;32m     99\u001b[0m         version\u001b[38;5;241m=\u001b[39mversion,\n\u001b[0;32m    100\u001b[0m         default_hp_metric\u001b[38;5;241m=\u001b[39mdefault_hp_metric,\n\u001b[0;32m    101\u001b[0m         prefix\u001b[38;5;241m=\u001b[39mprefix,\n\u001b[0;32m    102\u001b[0m         sub_dir\u001b[38;5;241m=\u001b[39msub_dir,\n\u001b[0;32m    103\u001b[0m         \u001b[38;5;241m*\u001b[39m\u001b[38;5;241m*\u001b[39mkwargs,\n\u001b[0;32m    104\u001b[0m     )\n\u001b[0;32m    105\u001b[0m     \u001b[38;5;28;01mif\u001b[39;00m log_graph \u001b[38;5;129;01mand\u001b[39;00m \u001b[38;5;129;01mnot\u001b[39;00m _TENSORBOARD_AVAILABLE:\n\u001b[0;32m    106\u001b[0m         rank_zero_warn(\n\u001b[0;32m    107\u001b[0m             \u001b[38;5;124m\"\u001b[39m\u001b[38;5;124mYou set `TensorBoardLogger(log_graph=True)` but `tensorboard` is not available.\u001b[39m\u001b[38;5;130;01m\\n\u001b[39;00m\u001b[38;5;124m\"\u001b[39m\n\u001b[0;32m    108\u001b[0m             \u001b[38;5;124mf\u001b[39m\u001b[38;5;124m\"\u001b[39m\u001b[38;5;132;01m{\u001b[39;00m\u001b[38;5;28mstr\u001b[39m(_TENSORBOARD_AVAILABLE)\u001b[38;5;132;01m}\u001b[39;00m\u001b[38;5;124m\"\u001b[39m\n\u001b[0;32m    109\u001b[0m         )\n",
      "File \u001b[1;32mc:\\anaconda\\Lib\\site-packages\\lightning\\fabric\\loggers\\tensorboard.py:93\u001b[0m, in \u001b[0;36mTensorBoardLogger.__init__\u001b[1;34m(self, root_dir, name, version, default_hp_metric, prefix, sub_dir, **kwargs)\u001b[0m\n\u001b[0;32m     82\u001b[0m \u001b[38;5;28;01mdef\u001b[39;00m \u001b[38;5;21m__init__\u001b[39m(\n\u001b[0;32m     83\u001b[0m     \u001b[38;5;28mself\u001b[39m,\n\u001b[0;32m     84\u001b[0m     root_dir: _PATH,\n\u001b[1;32m   (...)\u001b[0m\n\u001b[0;32m     90\u001b[0m     \u001b[38;5;241m*\u001b[39m\u001b[38;5;241m*\u001b[39mkwargs: Any,\n\u001b[0;32m     91\u001b[0m ):\n\u001b[0;32m     92\u001b[0m     \u001b[38;5;28;01mif\u001b[39;00m \u001b[38;5;129;01mnot\u001b[39;00m _TENSORBOARD_AVAILABLE \u001b[38;5;129;01mand\u001b[39;00m \u001b[38;5;129;01mnot\u001b[39;00m _TENSORBOARDX_AVAILABLE:\n\u001b[1;32m---> 93\u001b[0m         \u001b[38;5;28;01mraise\u001b[39;00m \u001b[38;5;167;01mModuleNotFoundError\u001b[39;00m(\n\u001b[0;32m     94\u001b[0m             \u001b[38;5;124m\"\u001b[39m\u001b[38;5;124mNeither `tensorboard` nor `tensorboardX` is available. Try `pip install`ing either.\u001b[39m\u001b[38;5;130;01m\\n\u001b[39;00m\u001b[38;5;124m\"\u001b[39m\n\u001b[0;32m     95\u001b[0m             \u001b[38;5;124mf\u001b[39m\u001b[38;5;124m\"\u001b[39m\u001b[38;5;132;01m{\u001b[39;00m\u001b[38;5;28mstr\u001b[39m(_TENSORBOARDX_AVAILABLE)\u001b[38;5;132;01m}\u001b[39;00m\u001b[38;5;130;01m\\n\u001b[39;00m\u001b[38;5;132;01m{\u001b[39;00m\u001b[38;5;28mstr\u001b[39m(_TENSORBOARD_AVAILABLE)\u001b[38;5;132;01m}\u001b[39;00m\u001b[38;5;124m\"\u001b[39m\n\u001b[0;32m     96\u001b[0m         )\n\u001b[0;32m     97\u001b[0m     \u001b[38;5;28msuper\u001b[39m()\u001b[38;5;241m.\u001b[39m\u001b[38;5;21m__init__\u001b[39m()\n\u001b[0;32m     98\u001b[0m     root_dir \u001b[38;5;241m=\u001b[39m os\u001b[38;5;241m.\u001b[39mfspath(root_dir)\n",
      "\u001b[1;31mModuleNotFoundError\u001b[0m: Neither `tensorboard` nor `tensorboardX` is available. Try `pip install`ing either.\nRequirement 'tensorboardX' not met. HINT: Try running `pip install -U 'tensorboardX'`\nRequirement 'tensorboard' not met. HINT: Try running `pip install -U 'tensorboard'`"
     ]
    }
   ],
   "source": [
    "import lightning.pytorch as pl\n",
    "from lightning.pytorch.loggers import TensorBoardLogger\n",
    "from lightning.pytorch.callbacks import EarlyStopping, LearningRateMonitor\n",
    "from pytorch_forecasting import TemporalFusionTransformer, QuantileLoss, MultiLoss\n",
    "\n",
    "#5次loss改善小於1e-4時，停止訓練\n",
    "#目的是避免overfitting\n",
    "early_stop_callback = EarlyStopping(monitor=\"val_loss\",min_delta=1e-4,patience=5,verbose=True,mode=\"min\")\n",
    "#記錄學習率的變化\n",
    "lr_logger = LearningRateMonitor()\n",
    "#將訓練數據存入Lightning_logs資料夾\n",
    "logger = TensorBoardLogger(\"lightning_logs\")\n",
    "\n",
    "trainer = pl.Trainer(\n",
    "    max_epochs=15,  #最多訓練幾次\n",
    "    accelerator = 'gpu',    #用gpu訓練(加速)\n",
    "    devices=1,\n",
    "    enable_model_summary=True,\n",
    "    gradient_clip_val=0.1,  #限制梯度最大值，避免梯度爆炸\n",
    "    accumulate_grad_batches=4,  #每4個batch累積梯度後，進行權重更新\n",
    "    callbacks=[lr_logger,early_stop_callback],\n",
    "    logger=logger\n",
    ")\n",
    "\n",
    "tft = TemporalFusionTransformer.from_dataset(\n",
    "    training,\n",
    "    learning_rate=0.005,\n",
    "    hidden_size=128,\n",
    "    attention_head_size=4,\n",
    "    dropout=0.2,    #隨機丟棄30%神經元，避免overfitting\n",
    "    hidden_continuous_size=32,\n",
    "    optimizer=\"ranger\",   #優化器\n",
    "    output_size=[7,7,7], #len(targets),\n",
    "    loss=MultiLoss([QuantileLoss(),QuantileLoss(),QuantileLoss()]),\n",
    "    log_interval=10,    #每10 batch紀錄一次log\n",
    "    reduce_on_plateau_patience=2    #兩次沒有改善時調整學習率\n",
    ")\n",
    "\n",
    "import torch.nn.init as init\n",
    "def init_tft_weights(m):\n",
    "    if isinstance(m, nn.Linear):\n",
    "        init.xavier_uniform_(m.weight)  # Xavier 初始化\n",
    "        if m.bias is not None:\n",
    "            init.zeros_(m.bias)\n",
    "\n",
    "# 將初始化套用到 TFT 模型\n",
    "tft.apply(init_tft_weights)\n",
    "\n",
    "trainer.fit(\n",
    "    tft,\n",
    "    train_dataloaders=train_dataloader,\n",
    "    val_dataloaders=val_dataloader,\n",
    ")"
   ]
  },
  {
   "cell_type": "code",
   "execution_count": 46,
   "metadata": {},
   "outputs": [
    {
     "name": "stdout",
     "output_type": "stream",
     "text": [
      "lightning_logs/lightning_logs/version_36/checkpoints/epoch=5-step=1236.ckpt\n"
     ]
    },
    {
     "name": "stderr",
     "output_type": "stream",
     "text": [
      "/home/undergrad/miniconda3/envs/114/lib/python3.12/site-packages/lightning/pytorch/utilities/parsing.py:209: Attribute 'loss' is an instance of `nn.Module` and is already saved during checkpointing. It is recommended to ignore them using `self.save_hyperparameters(ignore=['loss'])`.\n",
      "/home/undergrad/miniconda3/envs/114/lib/python3.12/site-packages/lightning/pytorch/utilities/parsing.py:209: Attribute 'logging_metrics' is an instance of `nn.Module` and is already saved during checkpointing. It is recommended to ignore them using `self.save_hyperparameters(ignore=['logging_metrics'])`.\n"
     ]
    }
   ],
   "source": [
    "best_model_path = trainer.checkpoint_callback.best_model_path\n",
    "print(best_model_path)\n",
    "best_tft = TemporalFusionTransformer.load_from_checkpoint(best_model_path)"
   ]
  },
  {
   "cell_type": "code",
   "execution_count": 48,
   "metadata": {},
   "outputs": [
    {
     "name": "stderr",
     "output_type": "stream",
     "text": [
      "Trainer will use only 1 of 2 GPUs because it is running inside an interactive / notebook environment. You may try to set `Trainer(devices=2)` but please note that multi-GPU inside interactive / notebook environments is considered experimental and unstable. Your mileage may vary.\n",
      "GPU available: True (cuda), used: True\n",
      "TPU available: False, using: 0 TPU cores\n",
      "HPU available: False, using: 0 HPUs\n",
      "LOCAL_RANK: 0 - CUDA_VISIBLE_DEVICES: [0,1]\n"
     ]
    },
    {
     "name": "stdout",
     "output_type": "stream",
     "text": [
      "actuals shape: torch.Size([3, 14])\n",
      "predictions shape: torch.Size([3, 14])\n",
      "[-64.  -62.8 -62.8 -62.8 -62.8 -62.8 -62.8 -62.  -62.  -62.  -62.  -62.\n",
      " -62.  -61.5] \n",
      " [-22.836641  -20.470846  -17.36033   -14.206268  -11.542515   -9.589161\n",
      "  -8.275901   -7.435671   -6.9096856  -6.5814095  -6.374381   -6.2406387\n",
      "  -6.1509705  -6.087868 ]\n",
      "Target 1 MAE: 51.7313\n",
      "Target 1 RMSE: 51.9754\n",
      "[-545.5 -545.3 -545.3 -545.3 -545.3 -545.3 -545.3 -544.6 -544.6 -544.6\n",
      " -544.6 -544.6 -544.6 -543.2] \n",
      " [-37.479115 -42.85597  -46.4231   -47.54344  -46.427418 -44.54745\n",
      " -42.83591  -41.522137 -40.570553 -39.8938   -39.40642  -39.04718\n",
      " -38.774223 -38.559345]\n",
      "Target 2 MAE: 503.0152\n",
      "Target 2 RMSE: 503.0237\n",
      "[67.6 71.5 71.5 71.5 71.5 71.5 71.5 72.  72.  72.  72.  72.  72.  72.6] \n",
      " [ -9.905953 -13.774506 -17.251822 -19.45363  -20.495153 -20.797705\n",
      " -20.769539 -20.62554  -20.465115 -20.326675 -20.218143 -20.137249\n",
      " -20.078775 -20.037334]\n",
      "Target 3 MAE: 90.3955\n",
      "Target 3 RMSE: 90.4872\n"
     ]
    }
   ],
   "source": [
    "from sklearn.metrics import mean_absolute_error, mean_squared_error \n",
    "\n",
    "predictions = best_tft.predict(test_dataloader)\n",
    "predictions = torch.stack(predictions)\n",
    "\n",
    "if isinstance(actuals, list):\n",
    "    actuals = torch.stack(actuals, dim=0)  # Stack along first dimension to form a tensor (shape: [3, batch_size, 144])\n",
    "\n",
    "\n",
    "print(type(predictions))\n",
    "print(type(actuals))\n",
    "\n",
    "# 对于每个目标，计算 MAE 和 RMSE\n",
    "for target_idx in range(3):  # 假设 actuals 和 predictions 的形状是 (num_samples, num_targets)\n",
    "    actual_target = actuals[target_idx, :, :].cpu().numpy()\n",
    "    predicted_target = predictions[target_idx, :, :].cpu().numpy()  # Ensure predictions have the same shape\n",
    "    # print(actual_target,'\\n',predicted_target)\n",
    "\n",
    "    mae = mean_absolute_error(actual_target, predicted_target)\n",
    "    rmse = np.sqrt(mean_squared_error(actual_target, predicted_target))\n",
    "\n",
    "    print(f\"Test {targets[target_idx]} MAE: {mae:.4f}\")\n",
    "    print(f\"Test {targets[target_idx]} RMSE: {rmse:.4f}\")"
   ]
  },
  {
   "cell_type": "code",
   "execution_count": 49,
   "metadata": {},
   "outputs": [
    {
     "name": "stdout",
     "output_type": "stream",
     "text": [
      "[ -64.  -545.5   67.6] \n",
      " [-22.836641 -37.479115  -9.905953]\n",
      "tensor([[-22.8366, -20.4708, -17.3603, -14.2063, -11.5425,  -9.5892,  -8.2759,\n",
      "          -7.4357,  -6.9097,  -6.5814,  -6.3744,  -6.2406,  -6.1510,  -6.0879],\n",
      "        [-37.4791, -42.8560, -46.4231, -47.5434, -46.4274, -44.5475, -42.8359,\n",
      "         -41.5221, -40.5706, -39.8938, -39.4064, -39.0472, -38.7742, -38.5593],\n",
      "        [ -9.9060, -13.7745, -17.2518, -19.4536, -20.4952, -20.7977, -20.7695,\n",
      "         -20.6255, -20.4651, -20.3267, -20.2181, -20.1372, -20.0788, -20.0373]],\n",
      "       device='cuda:0') \n",
      "\n",
      "tensor([[ -64.0000,  -62.8000,  -62.8000,  -62.8000,  -62.8000,  -62.8000,\n",
      "          -62.8000,  -62.0000,  -62.0000,  -62.0000,  -62.0000,  -62.0000,\n",
      "          -62.0000,  -61.5000],\n",
      "        [-545.5000, -545.3000, -545.3000, -545.3000, -545.3000, -545.3000,\n",
      "         -545.3000, -544.6000, -544.6000, -544.6000, -544.6000, -544.6000,\n",
      "         -544.6000, -543.2000],\n",
      "        [  67.6000,   71.5000,   71.5000,   71.5000,   71.5000,   71.5000,\n",
      "           71.5000,   72.0000,   72.0000,   72.0000,   72.0000,   72.0000,\n",
      "           72.0000,   72.6000]])\n"
     ]
    }
   ],
   "source": [
    "actuals_E = actuals[:, 0].cpu().numpy()\n",
    "predicted_E = predictions[:,0].cpu().numpy()\n",
    "\n",
    "print(actuals_E ,'\\n' , predicted_E)\n",
    "print(predictions,\"\\n\")\n",
    "print(actuals)"
   ]
  },
  {
   "cell_type": "code",
   "execution_count": 50,
   "metadata": {},
   "outputs": [
    {
     "name": "stdout",
     "output_type": "stream",
     "text": [
      "[-64.  -62.8 -62.8 -62.8 -62.8 -62.8 -62.8 -62.  -62.  -62.  -62.  -62.\n",
      " -62.  -61.5] \n",
      " [-22.836641  -20.470846  -17.36033   -14.206268  -11.542515   -9.589161\n",
      "  -8.275901   -7.435671   -6.9096856  -6.5814095  -6.374381   -6.2406387\n",
      "  -6.1509705  -6.087868 ]\n"
     ]
    },
    {
     "data": {
      "image/png": "[encoded data removed]",
      "text/plain": [
       "<Figure size 1200x600 with 3 Axes>"
      ]
     },
     "metadata": {},
     "output_type": "display_data"
    }
   ],
   "source": [
    "import matplotlib.pyplot as plt\n",
    "\n",
    "\n",
    "# Plot predictions vs actual values for each movement component\n",
    "plt.figure(figsize=(12, 6))\n",
    "\n",
    "plt.suptitle(\"Actual(blue) vs Predicted(red) Movements Over Time\", fontsize=16, fontweight='bold', y=1.02)\n",
    "n=max_prediction_length\n",
    "# For EMove (target 0)\n",
    "actuals_E = actuals[0,:,::n].cpu().numpy()\n",
    "predicted_E = predictions[0,:,::n].cpu().numpy()\n",
    "\n",
    "plt.subplot(4, 1, 1)\n",
    "plt.plot(actuals_E, label=\"Actual EMove\", color='blue')\n",
    "plt.plot(predicted_E, label=\"Predicted EMove\", color='red', linestyle='dashed')\n",
    "plt.title(\"E Move: Actual vs Predicted\")\n",
    "plt.ylim([np.min(actuals_E), np.max(actuals_E)])  # Set same y-axis range\n",
    "\n",
    "# For NMove (target 1)\n",
    "actuals_N = actuals[1,:,::n].cpu().numpy()\n",
    "predicted_N = predictions[1,:,::n].cpu().numpy()\n",
    "plt.subplot(4, 1, 2)\n",
    "plt.plot(actuals_N, label=\"Actual NMove\", color='blue')\n",
    "plt.plot(predicted_N ,label=\"Predicted NMove\", color='red', linestyle='dashed')\n",
    "plt.title(\"N Move: Actual vs Predicted\")\n",
    "plt.ylim([np.min(actuals_N), np.max(actuals_N)])  # Set same y-axis range\n",
    "\n",
    "\n",
    "# For HMove (target 2)\n",
    "actuals_H = actuals[2,:,::n].cpu().numpy()\n",
    "predicted_H = predictions[2,:,::n].cpu().numpy()\n",
    "plt.subplot(4, 1, 3)\n",
    "plt.plot(actuals_H, label=\"Actual HMove\", color='blue')\n",
    "plt.plot(predicted_H, label=\"Predicted HMove\", color='red', linestyle='dashed')\n",
    "plt.title(\"H Move: Actual vs Predicted\")\n",
    "plt.ylim([np.min(actuals_H), np.max(actuals_H)])  # Set same y-axis range\n",
    "\n",
    "\n",
    "plt.tight_layout()\n",
    "plt.show()\n"
   ]
  }
 ],
 "metadata": {
  "kernelspec": {
   "display_name": "base",
   "language": "python",
   "name": "python3"
  },
  "language_info": {
   "codemirror_mode": {
    "name": "ipython",
    "version": 3
   },
   "file_extension": ".py",
   "mimetype": "text/x-python",
   "name": "python",
   "nbconvert_exporter": "python",
   "pygments_lexer": "ipython3",
   "version": "3.11.5"
  }
 },
 "nbformat": 4,
 "nbformat_minor": 2
}
