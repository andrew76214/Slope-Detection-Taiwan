{
  "nbformat": 4,
  "nbformat_minor": 0,
  "metadata": {
    "colab": {
      "provenance": []
    },
    "kernelspec": {
      "name": "python3",
      "display_name": "Python 3"
    },
    "language_info": {
      "name": "python"
    }
  },
  "cells": [
    {
      "cell_type": "code",
      "execution_count": 24,
      "metadata": {
        "id": "yqV4fYJUmscB"
      },
      "outputs": [],
      "source": [
        "import pandas as pd\n",
        "import numpy as np"
      ]
    },
    {
      "cell_type": "code",
      "source": [
        "data_g2 = pd.read_csv(\"Kaohsiung_g2.csv\",delimiter=';')\n",
        "data_g3 = pd.read_csv(\"Kaohsiung_g3.csv\",delimiter=';')\n",
        "data_g4 = pd.read_csv(\"Kaohsiung_g4.csv\",delimiter=';')\n",
        "\n",
        "data = pd.concat([data_g2, data_g3, data_g4], ignore_index=True)"
      ],
      "metadata": {
        "id": "UOnlaypx0Fp5"
      },
      "execution_count": 25,
      "outputs": []
    },
    {
      "cell_type": "code",
      "source": [
        "print(data)"
      ],
      "metadata": {
        "colab": {
          "base_uri": "https://localhost:8080/"
        },
        "id": "XAp7rqaMJ1qo",
        "outputId": "6d05b7fb-3509-4bf2-927c-9e9d6c666397"
      },
      "execution_count": 26,
      "outputs": [
        {
          "output_type": "stream",
          "name": "stdout",
          "text": [
            "                  date_time            E             N          H  Angle  \\\n",
            "0       2024-01-18 04:30:00  224095.7991  2.551570e+06  1518.4140    0.0   \n",
            "1       2024-01-18 04:40:00  224095.7980  2.551570e+06  1518.4135  137.0   \n",
            "2       2024-01-18 10:40:00  224095.7973  2.551570e+06  1518.3954  151.0   \n",
            "3       2024-01-18 10:50:00  224095.8001  2.551570e+06  1518.3838  277.0   \n",
            "4       2024-01-18 11:10:00  224095.8011  2.551570e+06  1518.3934  288.0   \n",
            "...                     ...          ...           ...        ...    ...   \n",
            "120379  2024-12-30 11:00:00  224204.5244  2.551598e+06  1538.2650  292.0   \n",
            "120380  2024-12-30 11:10:00  224204.5241  2.551598e+06  1538.2652  297.0   \n",
            "120381  2024-12-30 11:20:00  224204.5241  2.551598e+06  1538.2660  292.0   \n",
            "120382  2024-12-30 11:30:00  224204.5235  2.551598e+06  1538.2646  282.0   \n",
            "120383  2024-12-30 11:40:00  224204.5237  2.551598e+06  1538.2650  282.0   \n",
            "\n",
            "        Axis  Plate  EMove   NMove   HMove  TotalMove         EDay  \\\n",
            "0        0.0    0.0    0.0     0.0     0.0        0.0  224095.7991   \n",
            "1        1.6    1.5   -1.1     1.0    -0.5        1.6  224095.7991   \n",
            "2       18.7    2.1   -1.8     1.0   -18.6       18.7  224095.7991   \n",
            "3       31.1    7.3    1.0    -7.2   -30.2       31.1  224095.7991   \n",
            "4       21.5    6.2    2.0    -5.9   -20.6       21.5  224095.7991   \n",
            "...      ...    ...    ...     ...     ...        ...          ...   \n",
            "120379  10.0    4.5 -740.0 -3205.2 -2952.2     4420.0  224204.5326   \n",
            "120380   7.9    4.0 -740.2 -3204.7 -2952.0     4419.5  224204.5325   \n",
            "120381   7.7    4.0 -740.2 -3204.5 -2951.2     4418.9  224204.5324   \n",
            "120382   8.9    4.9 -740.8 -3204.9 -2952.6     4420.2  224204.5323   \n",
            "120383  10.1    5.7 -740.6 -3205.2 -2952.2     4420.1  224204.5322   \n",
            "\n",
            "                NDay       HDay  \n",
            "0       2.551570e+06  1518.4140  \n",
            "1       2.551570e+06  1518.4140  \n",
            "2       2.551570e+06  1518.4138  \n",
            "3       2.551570e+06  1518.4135  \n",
            "4       2.551570e+06  1518.4133  \n",
            "...              ...        ...  \n",
            "120379  2.551598e+06  1538.2714  \n",
            "120380  2.551598e+06  1538.2713  \n",
            "120381  2.551598e+06  1538.2713  \n",
            "120382  2.551598e+06  1538.2712  \n",
            "120383  2.551598e+06  1538.2711  \n",
            "\n",
            "[120384 rows x 14 columns]\n"
          ]
        }
      ]
    },
    {
      "cell_type": "code",
      "source": [
        "data['date_time'] = pd.to_datetime(data['date_time'])\n",
        "data['date_time'] = data['date_time'].astype(int) / (10 ** 11)"
      ],
      "metadata": {
        "id": "OlJgP2aCQd09"
      },
      "execution_count": 27,
      "outputs": []
    },
    {
      "cell_type": "code",
      "source": [
        "print(data['date_time'])"
      ],
      "metadata": {
        "colab": {
          "base_uri": "https://localhost:8080/"
        },
        "id": "4gSJdxYkJ4IY",
        "outputId": "42d96c60-1132-4ce8-e6ce-c2dfeb8555e6"
      },
      "execution_count": 28,
      "outputs": [
        {
          "output_type": "stream",
          "name": "stdout",
          "text": [
            "0         17055522.0\n",
            "1         17055528.0\n",
            "2         17055744.0\n",
            "3         17055750.0\n",
            "4         17055762.0\n",
            "             ...    \n",
            "120379    17355564.0\n",
            "120380    17355570.0\n",
            "120381    17355576.0\n",
            "120382    17355582.0\n",
            "120383    17355588.0\n",
            "Name: date_time, Length: 120384, dtype: float64\n"
          ]
        }
      ]
    },
    {
      "cell_type": "code",
      "source": [
        "lag_features = ['E', 'N', 'H', 'TotalMove']\n",
        "lag_steps = 3\n",
        "\n",
        "for feature in lag_features:\n",
        "    for lag in range(1, lag_steps + 1):\n",
        "        data[f'{feature}_lag{lag}'] = data[feature].shift(lag)\n",
        "\n",
        "data = data.dropna()"
      ],
      "metadata": {
        "id": "u9h8baUpX6vE"
      },
      "execution_count": 29,
      "outputs": []
    },
    {
      "cell_type": "code",
      "source": [
        "target = ['E', 'N', 'H', 'TotalMove']\n",
        "X = data.drop(columns = target)  # 移除原始時間欄位與目標\n",
        "y = data[target]"
      ],
      "metadata": {
        "id": "jZXkDbmyZXZa"
      },
      "execution_count": 30,
      "outputs": []
    },
    {
      "cell_type": "code",
      "source": [
        "!pip install -U scikit-learn==1.3.1\n",
        "import xgboost as xgb\n",
        "from sklearn.model_selection import train_test_split"
      ],
      "metadata": {
        "colab": {
          "base_uri": "https://localhost:8080/"
        },
        "id": "9OeEprXBE7lR",
        "outputId": "dcf6594f-5c50-4274-8154-dcd0f060cf34"
      },
      "execution_count": 31,
      "outputs": [
        {
          "output_type": "stream",
          "name": "stdout",
          "text": [
            "Requirement already satisfied: scikit-learn==1.3.1 in /usr/local/lib/python3.11/dist-packages (1.3.1)\n",
            "Requirement already satisfied: numpy<2.0,>=1.17.3 in /usr/local/lib/python3.11/dist-packages (from scikit-learn==1.3.1) (1.26.4)\n",
            "Requirement already satisfied: scipy>=1.5.0 in /usr/local/lib/python3.11/dist-packages (from scikit-learn==1.3.1) (1.13.1)\n",
            "Requirement already satisfied: joblib>=1.1.1 in /usr/local/lib/python3.11/dist-packages (from scikit-learn==1.3.1) (1.4.2)\n",
            "Requirement already satisfied: threadpoolctl>=2.0.0 in /usr/local/lib/python3.11/dist-packages (from scikit-learn==1.3.1) (3.5.0)\n"
          ]
        }
      ]
    },
    {
      "cell_type": "code",
      "source": [
        "X_train, X_test, y_train, y_test = train_test_split(X, y, test_size=0.2, random_state=42)\n",
        "xgbrModel=xgb.XGBRegressor()\n",
        "xgbrModel.fit(X_train,y_train)"
      ],
      "metadata": {
        "colab": {
          "base_uri": "https://localhost:8080/",
          "height": 248
        },
        "id": "nkKb24RpgV3K",
        "outputId": "7d1ac7a4-6e26-486d-ff2f-751ea3668af5"
      },
      "execution_count": 32,
      "outputs": [
        {
          "output_type": "execute_result",
          "data": {
            "text/plain": [
              "XGBRegressor(base_score=None, booster=None, callbacks=None,\n",
              "             colsample_bylevel=None, colsample_bynode=None,\n",
              "             colsample_bytree=None, device=None, early_stopping_rounds=None,\n",
              "             enable_categorical=False, eval_metric=None, feature_types=None,\n",
              "             gamma=None, grow_policy=None, importance_type=None,\n",
              "             interaction_constraints=None, learning_rate=None, max_bin=None,\n",
              "             max_cat_threshold=None, max_cat_to_onehot=None,\n",
              "             max_delta_step=None, max_depth=None, max_leaves=None,\n",
              "             min_child_weight=None, missing=nan, monotone_constraints=None,\n",
              "             multi_strategy=None, n_estimators=None, n_jobs=None,\n",
              "             num_parallel_tree=None, random_state=None, ...)"
            ],
            "text/html": [
              "<style>#sk-container-id-2 {color: black;}#sk-container-id-2 pre{padding: 0;}#sk-container-id-2 div.sk-toggleable {background-color: white;}#sk-container-id-2 label.sk-toggleable__label {cursor: pointer;display: block;width: 100%;margin-bottom: 0;padding: 0.3em;box-sizing: border-box;text-align: center;}#sk-container-id-2 label.sk-toggleable__label-arrow:before {content: \"▸\";float: left;margin-right: 0.25em;color: #696969;}#sk-container-id-2 label.sk-toggleable__label-arrow:hover:before {color: black;}#sk-container-id-2 div.sk-estimator:hover label.sk-toggleable__label-arrow:before {color: black;}#sk-container-id-2 div.sk-toggleable__content {max-height: 0;max-width: 0;overflow: hidden;text-align: left;background-color: #f0f8ff;}#sk-container-id-2 div.sk-toggleable__content pre {margin: 0.2em;color: black;border-radius: 0.25em;background-color: #f0f8ff;}#sk-container-id-2 input.sk-toggleable__control:checked~div.sk-toggleable__content {max-height: 200px;max-width: 100%;overflow: auto;}#sk-container-id-2 input.sk-toggleable__control:checked~label.sk-toggleable__label-arrow:before {content: \"▾\";}#sk-container-id-2 div.sk-estimator input.sk-toggleable__control:checked~label.sk-toggleable__label {background-color: #d4ebff;}#sk-container-id-2 div.sk-label input.sk-toggleable__control:checked~label.sk-toggleable__label {background-color: #d4ebff;}#sk-container-id-2 input.sk-hidden--visually {border: 0;clip: rect(1px 1px 1px 1px);clip: rect(1px, 1px, 1px, 1px);height: 1px;margin: -1px;overflow: hidden;padding: 0;position: absolute;width: 1px;}#sk-container-id-2 div.sk-estimator {font-family: monospace;background-color: #f0f8ff;border: 1px dotted black;border-radius: 0.25em;box-sizing: border-box;margin-bottom: 0.5em;}#sk-container-id-2 div.sk-estimator:hover {background-color: #d4ebff;}#sk-container-id-2 div.sk-parallel-item::after {content: \"\";width: 100%;border-bottom: 1px solid gray;flex-grow: 1;}#sk-container-id-2 div.sk-label:hover label.sk-toggleable__label {background-color: #d4ebff;}#sk-container-id-2 div.sk-serial::before {content: \"\";position: absolute;border-left: 1px solid gray;box-sizing: border-box;top: 0;bottom: 0;left: 50%;z-index: 0;}#sk-container-id-2 div.sk-serial {display: flex;flex-direction: column;align-items: center;background-color: white;padding-right: 0.2em;padding-left: 0.2em;position: relative;}#sk-container-id-2 div.sk-item {position: relative;z-index: 1;}#sk-container-id-2 div.sk-parallel {display: flex;align-items: stretch;justify-content: center;background-color: white;position: relative;}#sk-container-id-2 div.sk-item::before, #sk-container-id-2 div.sk-parallel-item::before {content: \"\";position: absolute;border-left: 1px solid gray;box-sizing: border-box;top: 0;bottom: 0;left: 50%;z-index: -1;}#sk-container-id-2 div.sk-parallel-item {display: flex;flex-direction: column;z-index: 1;position: relative;background-color: white;}#sk-container-id-2 div.sk-parallel-item:first-child::after {align-self: flex-end;width: 50%;}#sk-container-id-2 div.sk-parallel-item:last-child::after {align-self: flex-start;width: 50%;}#sk-container-id-2 div.sk-parallel-item:only-child::after {width: 0;}#sk-container-id-2 div.sk-dashed-wrapped {border: 1px dashed gray;margin: 0 0.4em 0.5em 0.4em;box-sizing: border-box;padding-bottom: 0.4em;background-color: white;}#sk-container-id-2 div.sk-label label {font-family: monospace;font-weight: bold;display: inline-block;line-height: 1.2em;}#sk-container-id-2 div.sk-label-container {text-align: center;}#sk-container-id-2 div.sk-container {/* jupyter's `normalize.less` sets `[hidden] { display: none; }` but bootstrap.min.css set `[hidden] { display: none !important; }` so we also need the `!important` here to be able to override the default hidden behavior on the sphinx rendered scikit-learn.org. See: https://github.com/scikit-learn/scikit-learn/issues/21755 */display: inline-block !important;position: relative;}#sk-container-id-2 div.sk-text-repr-fallback {display: none;}</style><div id=\"sk-container-id-2\" class=\"sk-top-container\"><div class=\"sk-text-repr-fallback\"><pre>XGBRegressor(base_score=None, booster=None, callbacks=None,\n",
              "             colsample_bylevel=None, colsample_bynode=None,\n",
              "             colsample_bytree=None, device=None, early_stopping_rounds=None,\n",
              "             enable_categorical=False, eval_metric=None, feature_types=None,\n",
              "             gamma=None, grow_policy=None, importance_type=None,\n",
              "             interaction_constraints=None, learning_rate=None, max_bin=None,\n",
              "             max_cat_threshold=None, max_cat_to_onehot=None,\n",
              "             max_delta_step=None, max_depth=None, max_leaves=None,\n",
              "             min_child_weight=None, missing=nan, monotone_constraints=None,\n",
              "             multi_strategy=None, n_estimators=None, n_jobs=None,\n",
              "             num_parallel_tree=None, random_state=None, ...)</pre><b>In a Jupyter environment, please rerun this cell to show the HTML representation or trust the notebook. <br />On GitHub, the HTML representation is unable to render, please try loading this page with nbviewer.org.</b></div><div class=\"sk-container\" hidden><div class=\"sk-item\"><div class=\"sk-estimator sk-toggleable\"><input class=\"sk-toggleable__control sk-hidden--visually\" id=\"sk-estimator-id-2\" type=\"checkbox\" checked><label for=\"sk-estimator-id-2\" class=\"sk-toggleable__label sk-toggleable__label-arrow\">XGBRegressor</label><div class=\"sk-toggleable__content\"><pre>XGBRegressor(base_score=None, booster=None, callbacks=None,\n",
              "             colsample_bylevel=None, colsample_bynode=None,\n",
              "             colsample_bytree=None, device=None, early_stopping_rounds=None,\n",
              "             enable_categorical=False, eval_metric=None, feature_types=None,\n",
              "             gamma=None, grow_policy=None, importance_type=None,\n",
              "             interaction_constraints=None, learning_rate=None, max_bin=None,\n",
              "             max_cat_threshold=None, max_cat_to_onehot=None,\n",
              "             max_delta_step=None, max_depth=None, max_leaves=None,\n",
              "             min_child_weight=None, missing=nan, monotone_constraints=None,\n",
              "             multi_strategy=None, n_estimators=None, n_jobs=None,\n",
              "             num_parallel_tree=None, random_state=None, ...)</pre></div></div></div></div></div>"
            ]
          },
          "metadata": {},
          "execution_count": 32
        }
      ]
    },
    {
      "cell_type": "code",
      "source": [
        "y_pred = xgbrModel.predict(X_test)"
      ],
      "metadata": {
        "id": "wqJBWSVmg0RP"
      },
      "execution_count": 33,
      "outputs": []
    },
    {
      "cell_type": "code",
      "source": [
        "print(y_pred)"
      ],
      "metadata": {
        "colab": {
          "base_uri": "https://localhost:8080/"
        },
        "id": "4waeax4_GIgC",
        "outputId": "970f8f83-3761-4172-e370-74f5f8d93f5d"
      },
      "execution_count": 34,
      "outputs": [
        {
          "output_type": "stream",
          "name": "stdout",
          "text": [
            "[[2.2420528e+05 2.5516008e+06 1.5411913e+03 2.6088326e+01]\n",
            " [2.2409580e+05 2.5515700e+06 1.5183749e+03 2.4551990e+02]\n",
            " [2.2420527e+05 2.5516008e+06 1.5411730e+03 5.2425179e+01]\n",
            " ...\n",
            " [2.2417609e+05 2.5515630e+06 1.5258491e+03 8.2515778e+01]\n",
            " [2.2409580e+05 2.5515700e+06 1.5183634e+03 2.6944696e+02]\n",
            " [2.2417609e+05 2.5515630e+06 1.5258667e+03 6.4907425e+01]]\n"
          ]
        }
      ]
    },
    {
      "cell_type": "code",
      "source": [
        "from sklearn.metrics import mean_squared_error,mean_absolute_error\n",
        "\n",
        "mae = mean_absolute_error(y_test, y_pred)\n",
        "rmse = np.sqrt(mean_squared_error(y_test, y_pred))\n",
        "\n",
        "results = pd.DataFrame({\n",
        "    \"MAE\": [mae],\n",
        "    \"RMSE\": [rmse]\n",
        "})\n",
        "\n",
        "print(results)"
      ],
      "metadata": {
        "colab": {
          "base_uri": "https://localhost:8080/"
        },
        "id": "LVVbJvZ9G7iy",
        "outputId": "528bafdd-56a8-410c-d1db-1cf2d5ada5d8"
      },
      "execution_count": 35,
      "outputs": [
        {
          "output_type": "stream",
          "name": "stdout",
          "text": [
            "        MAE       RMSE\n",
            "0  1.106329  15.992437\n"
          ]
        }
      ]
    }
  ]
}